{
 "cells": [
  {
   "cell_type": "markdown",
   "metadata": {},
   "source": [
    "# 3. InceptionResNetV2_SE_Predict\n",
    "Kaggle score: 0.000"
   ]
  },
  {
   "cell_type": "markdown",
   "metadata": {},
   "source": [
    "## Run name"
   ]
  },
  {
   "cell_type": "code",
   "execution_count": 1,
   "metadata": {},
   "outputs": [
    {
     "name": "stdout",
     "output_type": "stream",
     "text": [
      "run_name: inclusive-images-challenge_3_InceptionResNetV2_SE_Predict_20181028-130513\n"
     ]
    }
   ],
   "source": [
    "import time\n",
    "\n",
    "project_name = 'inclusive-images-challenge'\n",
    "step_name = '3_InceptionResNetV2_SE_Predict'\n",
    "time_str = time.strftime(\"%Y%m%d-%H%M%S\", time.localtime())\n",
    "run_name = project_name + '_' + step_name + '_' + time_str\n",
    "print('run_name: ' + run_name)\n",
    "\n",
    "time0 = time.time()"
   ]
  },
  {
   "cell_type": "markdown",
   "metadata": {},
   "source": [
    "## Important params"
   ]
  },
  {
   "cell_type": "code",
   "execution_count": 2,
   "metadata": {},
   "outputs": [
    {
     "name": "stdout",
     "output_type": "stream",
     "text": [
      "None 1024\n",
      "inclusive-images-challenge_3_InceptionResNetV2_SE_20181027-030909_2301.h5\n",
      "inclusive-images-challenge_3_InceptionResNetV2_SE_20181027-030909_tag_info.pkl\n"
     ]
    }
   ],
   "source": [
    "debug_rows = None #100*10000\n",
    "image_size = 200\n",
    "batch_size = 1024\n",
    "model_name0 = 'inclusive-images-challenge_3_InceptionResNetV2_SE_20181027-030909_2301'\n",
    "model_name = '%s.h5' % model_name0\n",
    "tag_info_name = 'inclusive-images-challenge_3_InceptionResNetV2_SE_20181027-030909_tag_info.pkl'\n",
    "\n",
    "print(debug_rows, batch_size)\n",
    "print(model_name)\n",
    "print(tag_info_name)"
   ]
  },
  {
   "cell_type": "markdown",
   "metadata": {},
   "source": [
    "## Import pkgs"
   ]
  },
  {
   "cell_type": "code",
   "execution_count": 3,
   "metadata": {},
   "outputs": [
    {
     "name": "stdout",
     "output_type": "stream",
     "text": [
      "cpu_amount: 3\n",
      "random_num: 0566\n"
     ]
    },
    {
     "name": "stderr",
     "output_type": "stream",
     "text": [
      "/home/ubuntu/anaconda3/envs/tensorflow_p36/lib/python3.6/site-packages/sklearn/cross_validation.py:41: DeprecationWarning: This module was deprecated in version 0.18 in favor of the model_selection module into which all the refactored classes and functions are moved. Also note that the interface of the new CV iterators are different from that of this module. This module will be removed in 0.20.\n",
      "  \"This module will be removed in 0.20.\", DeprecationWarning)\n"
     ]
    }
   ],
   "source": [
    "import os\n",
    "import random\n",
    "import time\n",
    "import re\n",
    "import pickle\n",
    "from tqdm import tqdm\n",
    "import multiprocessing\n",
    "from tqdm import tqdm_notebook\n",
    "import imghdr\n",
    "\n",
    "import pandas as pd\n",
    "import numpy as np\n",
    "import matplotlib.pyplot as plt\n",
    "import seaborn\n",
    "%matplotlib inline\n",
    "\n",
    "from sklearn.datasets import load_breast_cancer\n",
    "from sklearn.preprocessing import OneHotEncoder, StandardScaler\n",
    "from sklearn.cross_validation import train_test_split\n",
    "from sklearn.model_selection import train_test_split, GridSearchCV\n",
    "from sklearn.metrics import accuracy_score, precision_score, recall_score, fbeta_score, jaccard_similarity_score\n",
    "\n",
    "cpu_amount = multiprocessing.cpu_count()\n",
    "random_num = np.random.randint(0, 9999)\n",
    "random_num_str = '%04d' % random_num\n",
    "\n",
    "print('cpu_amount: %s' % (cpu_amount - 1))\n",
    "print('random_num: %s' % random_num_str)"
   ]
  },
  {
   "cell_type": "markdown",
   "metadata": {},
   "source": [
    "## Project folders"
   ]
  },
  {
   "cell_type": "code",
   "execution_count": 4,
   "metadata": {},
   "outputs": [
    {
     "name": "stdout",
     "output_type": "stream",
     "text": [
      "/data/kaggle-Inclusive-Images/feature\n",
      "/data/kaggle-Inclusive-Images/input\n",
      "/data/kaggle-Inclusive-Images/output\n",
      "/data/kaggle-Inclusive-Images/model\n",
      "/data/kaggle-Inclusive-Images/log\n",
      "/data/kaggle-Inclusive-Images/input/train\n",
      "/data/kaggle-Inclusive-Images/input/validation\n",
      "/data/kaggle-Inclusive-Images/input/stage_1_test_images\n",
      "/data/kaggle-Inclusive-Images/input/sl_train\n",
      "/data/kaggle-Inclusive-Images/input/sl_val\n",
      "/data/kaggle-Inclusive-Images/input/sl_test\n",
      "/data/kaggle-Inclusive-Images/input/class-descriptions.csv\n",
      "/data/kaggle-Inclusive-Images/input/classes-trainable.csv\n",
      "/data/kaggle-Inclusive-Images/input/stage_1_attributions.csv\n",
      "/data/kaggle-Inclusive-Images/input/stage_1_sample_submission.csv\n",
      "/data/kaggle-Inclusive-Images/input/train_bounding_boxes.csv\n",
      "/data/kaggle-Inclusive-Images/input/train_human_labels.csv\n",
      "/data/kaggle-Inclusive-Images/input/train_machine_labels.csv\n",
      "/data/kaggle-Inclusive-Images/input/tuning_labels.csv\n"
     ]
    }
   ],
   "source": [
    "cwd = os.getcwd()\n",
    "feature_folder = os.path.join(cwd, 'feature')\n",
    "input_folder = os.path.join(cwd, 'input')\n",
    "output_folder = os.path.join(cwd, 'output')\n",
    "model_folder = os.path.join(cwd, 'model')\n",
    "log_folder = os.path.join(cwd, 'log')\n",
    "\n",
    "cwd = os.getcwd()\n",
    "feature_folder = os.path.join(cwd, 'feature')\n",
    "input_folder = os.path.join(cwd, 'input')\n",
    "output_folder = os.path.join(cwd, 'output')\n",
    "model_folder = os.path.join(cwd, 'model')\n",
    "log_folder = os.path.join(cwd, 'log')\n",
    "\n",
    "print(feature_folder)\n",
    "print(input_folder)\n",
    "print(output_folder)\n",
    "print(model_folder)\n",
    "print(log_folder)\n",
    "train_folder = os.path.join(input_folder, 'train')\n",
    "validation_folder = os.path.join(input_folder, 'validation')\n",
    "stage_1_test_images_folder = os.path.join(input_folder, 'stage_1_test_images')\n",
    "sl_train_folder = os.path.join(input_folder, 'sl_train')\n",
    "sl_val_folder = os.path.join(input_folder, 'sl_val')\n",
    "sl_test_folder = os.path.join(input_folder, 'sl_test')\n",
    "\n",
    "print(train_folder)\n",
    "print(validation_folder)\n",
    "print(stage_1_test_images_folder)\n",
    "print(sl_train_folder)\n",
    "print(sl_val_folder)\n",
    "print(sl_test_folder)\n",
    "\n",
    "class_descriptions_csv = os.path.join(input_folder, 'class-descriptions.csv')\n",
    "class_trainable_csv = os.path.join(input_folder, 'classes-trainable.csv')\n",
    "stage_1_attributions_csv = os.path.join(input_folder, 'stage_1_attributions.csv')\n",
    "stage_1_sample_submission_csv = os.path.join(input_folder, 'stage_1_sample_submission.csv')\n",
    "train_bounding_boxes_csv = os.path.join(input_folder, 'train_bounding_boxes.csv')\n",
    "train_human_labels_csv = os.path.join(input_folder, 'train_human_labels.csv')\n",
    "train_machine_labels_csv = os.path.join(input_folder, 'train_machine_labels.csv')\n",
    "tuning_labels_csv = os.path.join(input_folder, 'tuning_labels.csv')\n",
    "\n",
    "print(class_descriptions_csv)\n",
    "print(class_trainable_csv)\n",
    "print(stage_1_attributions_csv)\n",
    "print(stage_1_sample_submission_csv)\n",
    "print(train_bounding_boxes_csv)\n",
    "print(train_human_labels_csv)\n",
    "print(train_machine_labels_csv)\n",
    "print(tuning_labels_csv)"
   ]
  },
  {
   "cell_type": "markdown",
   "metadata": {},
   "source": [
    "## Functions"
   ]
  },
  {
   "cell_type": "code",
   "execution_count": 5,
   "metadata": {},
   "outputs": [],
   "source": [
    "def pickle_dump(obj, file):\n",
    "    with open(file, 'wb') as f:\n",
    "        pickle.dump(obj, f)\n",
    "        \n",
    "def pickle_load(file):\n",
    "    with open(file, 'rb') as f:\n",
    "        obj = pickle.load(f)\n",
    "        return obj"
   ]
  },
  {
   "cell_type": "markdown",
   "metadata": {},
   "source": [
    "## Load csv"
   ]
  },
  {
   "cell_type": "code",
   "execution_count": 6,
   "metadata": {},
   "outputs": [
    {
     "name": "stdout",
     "output_type": "stream",
     "text": [
      "CPU times: user 18.3 s, sys: 1.36 s, total: 19.6 s\n",
      "Wall time: 19.7 s\n"
     ]
    }
   ],
   "source": [
    "%%time\n",
    "train_bounding_boxes_df = pd.read_csv(train_bounding_boxes_csv, nrows=debug_rows)"
   ]
  },
  {
   "cell_type": "code",
   "execution_count": 7,
   "metadata": {},
   "outputs": [
    {
     "name": "stdout",
     "output_type": "stream",
     "text": [
      "CPU times: user 28 ms, sys: 0 ns, total: 28 ms\n",
      "Wall time: 26.7 ms\n"
     ]
    }
   ],
   "source": [
    "%%time\n",
    "stage_1_attributions_df = pd.read_csv(stage_1_attributions_csv)"
   ]
  },
  {
   "cell_type": "code",
   "execution_count": 8,
   "metadata": {},
   "outputs": [
    {
     "name": "stdout",
     "output_type": "stream",
     "text": [
      "CPU times: user 28 ms, sys: 0 ns, total: 28 ms\n",
      "Wall time: 25.9 ms\n"
     ]
    }
   ],
   "source": [
    "%%time\n",
    "stage_1_sample_submission_df = pd.read_csv(stage_1_sample_submission_csv)"
   ]
  },
  {
   "cell_type": "code",
   "execution_count": 9,
   "metadata": {},
   "outputs": [
    {
     "data": {
      "text/plain": [
       "'train_bounding_boxes_df'"
      ]
     },
     "metadata": {},
     "output_type": "display_data"
    },
    {
     "data": {
      "text/plain": [
       "(14610229, 13)"
      ]
     },
     "metadata": {},
     "output_type": "display_data"
    },
    {
     "data": {
      "text/html": [
       "<div>\n",
       "<style scoped>\n",
       "    .dataframe tbody tr th:only-of-type {\n",
       "        vertical-align: middle;\n",
       "    }\n",
       "\n",
       "    .dataframe tbody tr th {\n",
       "        vertical-align: top;\n",
       "    }\n",
       "\n",
       "    .dataframe thead th {\n",
       "        text-align: right;\n",
       "    }\n",
       "</style>\n",
       "<table border=\"1\" class=\"dataframe\">\n",
       "  <thead>\n",
       "    <tr style=\"text-align: right;\">\n",
       "      <th></th>\n",
       "      <th>ImageID</th>\n",
       "      <th>Source</th>\n",
       "      <th>LabelName</th>\n",
       "      <th>Confidence</th>\n",
       "      <th>XMin</th>\n",
       "      <th>XMax</th>\n",
       "      <th>YMin</th>\n",
       "      <th>YMax</th>\n",
       "      <th>IsOccluded</th>\n",
       "      <th>IsTruncated</th>\n",
       "      <th>IsGroupOf</th>\n",
       "      <th>IsDepiction</th>\n",
       "      <th>IsInside</th>\n",
       "    </tr>\n",
       "  </thead>\n",
       "  <tbody>\n",
       "    <tr>\n",
       "      <th>0</th>\n",
       "      <td>000002b66c9c498e</td>\n",
       "      <td>xclick</td>\n",
       "      <td>/m/01g317</td>\n",
       "      <td>1</td>\n",
       "      <td>0.0125</td>\n",
       "      <td>0.195312</td>\n",
       "      <td>0.148438</td>\n",
       "      <td>0.587500</td>\n",
       "      <td>0</td>\n",
       "      <td>1</td>\n",
       "      <td>0</td>\n",
       "      <td>0</td>\n",
       "      <td>0</td>\n",
       "    </tr>\n",
       "    <tr>\n",
       "      <th>1</th>\n",
       "      <td>000002b66c9c498e</td>\n",
       "      <td>xclick</td>\n",
       "      <td>/m/01g317</td>\n",
       "      <td>1</td>\n",
       "      <td>0.0250</td>\n",
       "      <td>0.276563</td>\n",
       "      <td>0.714063</td>\n",
       "      <td>0.948438</td>\n",
       "      <td>0</td>\n",
       "      <td>1</td>\n",
       "      <td>0</td>\n",
       "      <td>0</td>\n",
       "      <td>0</td>\n",
       "    </tr>\n",
       "  </tbody>\n",
       "</table>\n",
       "</div>"
      ],
      "text/plain": [
       "            ImageID  Source  LabelName  Confidence    XMin      XMax  \\\n",
       "0  000002b66c9c498e  xclick  /m/01g317           1  0.0125  0.195312   \n",
       "1  000002b66c9c498e  xclick  /m/01g317           1  0.0250  0.276563   \n",
       "\n",
       "       YMin      YMax  IsOccluded  IsTruncated  IsGroupOf  IsDepiction  \\\n",
       "0  0.148438  0.587500           0            1          0            0   \n",
       "1  0.714063  0.948438           0            1          0            0   \n",
       "\n",
       "   IsInside  \n",
       "0         0  \n",
       "1         0  "
      ]
     },
     "metadata": {},
     "output_type": "display_data"
    },
    {
     "data": {
      "text/plain": [
       "'stage_1_attributions_df'"
      ]
     },
     "metadata": {},
     "output_type": "display_data"
    },
    {
     "data": {
      "text/plain": [
       "(32580, 2)"
      ]
     },
     "metadata": {},
     "output_type": "display_data"
    },
    {
     "data": {
      "text/html": [
       "<div>\n",
       "<style scoped>\n",
       "    .dataframe tbody tr th:only-of-type {\n",
       "        vertical-align: middle;\n",
       "    }\n",
       "\n",
       "    .dataframe tbody tr th {\n",
       "        vertical-align: top;\n",
       "    }\n",
       "\n",
       "    .dataframe thead th {\n",
       "        text-align: right;\n",
       "    }\n",
       "</style>\n",
       "<table border=\"1\" class=\"dataframe\">\n",
       "  <thead>\n",
       "    <tr style=\"text-align: right;\">\n",
       "      <th></th>\n",
       "      <th>image_id</th>\n",
       "      <th>source</th>\n",
       "    </tr>\n",
       "  </thead>\n",
       "  <tbody>\n",
       "    <tr>\n",
       "      <th>0</th>\n",
       "      <td>2b2b327132556c767a736b3d</td>\n",
       "      <td>Nita Ar</td>\n",
       "    </tr>\n",
       "    <tr>\n",
       "      <th>1</th>\n",
       "      <td>2b2b394755692f303963553d</td>\n",
       "      <td>Sathya Esarapu</td>\n",
       "    </tr>\n",
       "  </tbody>\n",
       "</table>\n",
       "</div>"
      ],
      "text/plain": [
       "                   image_id          source\n",
       "0  2b2b327132556c767a736b3d         Nita Ar\n",
       "1  2b2b394755692f303963553d  Sathya Esarapu"
      ]
     },
     "metadata": {},
     "output_type": "display_data"
    },
    {
     "data": {
      "text/plain": [
       "'stage_1_sample_submission_df'"
      ]
     },
     "metadata": {},
     "output_type": "display_data"
    },
    {
     "data": {
      "text/plain": [
       "(32580, 2)"
      ]
     },
     "metadata": {},
     "output_type": "display_data"
    },
    {
     "data": {
      "text/html": [
       "<div>\n",
       "<style scoped>\n",
       "    .dataframe tbody tr th:only-of-type {\n",
       "        vertical-align: middle;\n",
       "    }\n",
       "\n",
       "    .dataframe tbody tr th {\n",
       "        vertical-align: top;\n",
       "    }\n",
       "\n",
       "    .dataframe thead th {\n",
       "        text-align: right;\n",
       "    }\n",
       "</style>\n",
       "<table border=\"1\" class=\"dataframe\">\n",
       "  <thead>\n",
       "    <tr style=\"text-align: right;\">\n",
       "      <th></th>\n",
       "      <th>image_id</th>\n",
       "      <th>labels</th>\n",
       "    </tr>\n",
       "  </thead>\n",
       "  <tbody>\n",
       "    <tr>\n",
       "      <th>0</th>\n",
       "      <td>2b2b327132556c767a736b3d</td>\n",
       "      <td>/m/0sgh53y /m/0g4cd0</td>\n",
       "    </tr>\n",
       "    <tr>\n",
       "      <th>1</th>\n",
       "      <td>2b2b394755692f303963553d</td>\n",
       "      <td>/m/0sgh53y /m/0g4cd0</td>\n",
       "    </tr>\n",
       "  </tbody>\n",
       "</table>\n",
       "</div>"
      ],
      "text/plain": [
       "                   image_id                labels\n",
       "0  2b2b327132556c767a736b3d  /m/0sgh53y /m/0g4cd0\n",
       "1  2b2b394755692f303963553d  /m/0sgh53y /m/0g4cd0"
      ]
     },
     "metadata": {},
     "output_type": "display_data"
    }
   ],
   "source": [
    "display('train_bounding_boxes_df', train_bounding_boxes_df.shape, train_bounding_boxes_df.head(2))\n",
    "# display('train_machine_labels_df', train_machine_labels_df.shape, train_machine_labels_df.head(2))\n",
    "# display('train_human_labels_df', train_human_labels_df.shape, train_human_labels_df.head(2))\n",
    "display('stage_1_attributions_df', stage_1_attributions_df.shape, stage_1_attributions_df.head(2))\n",
    "display('stage_1_sample_submission_df', stage_1_sample_submission_df.shape, stage_1_sample_submission_df.head(2))"
   ]
  },
  {
   "cell_type": "code",
   "execution_count": 10,
   "metadata": {},
   "outputs": [
    {
     "name": "stdout",
     "output_type": "stream",
     "text": [
      "599 --> Use this 599 labels, approximate 600 labels\n"
     ]
    }
   ],
   "source": [
    "print(len(set(train_bounding_boxes_df['LabelName'])), '--> Use this 599 labels, approximate 600 labels')\n",
    "# print(len(set(train_machine_labels_df['LabelName'])))\n",
    "# print(len(set(train_human_labels_df['LabelName'])))\n",
    "# print(len(set(stage_1_sample_submission_df['labels'])))"
   ]
  },
  {
   "cell_type": "markdown",
   "metadata": {},
   "source": [
    "## Load model"
   ]
  },
  {
   "cell_type": "code",
   "execution_count": 11,
   "metadata": {},
   "outputs": [
    {
     "name": "stderr",
     "output_type": "stream",
     "text": [
      "Using TensorFlow backend.\n"
     ]
    }
   ],
   "source": [
    "from keras.applications.vgg16 import VGG16\n",
    "from keras.applications.inception_v3 import InceptionV3\n",
    "from keras.applications.inception_resnet_v2 import InceptionResNetV2\n",
    "from keras.preprocessing import image\n",
    "from keras.models import Model, load_model\n",
    "from keras.layers import Dense, GlobalAveragePooling2D\n",
    "from keras.preprocessing.image import ImageDataGenerator\n",
    "from keras.callbacks import LearningRateScheduler, TensorBoard\n",
    "from keras.utils import Sequence\n",
    "from keras import backend as K\n",
    "\n",
    "from skimage.io import imread\n",
    "from skimage.transform import resize"
   ]
  },
  {
   "cell_type": "code",
   "execution_count": 12,
   "metadata": {},
   "outputs": [
    {
     "name": "stdout",
     "output_type": "stream",
     "text": [
      "Found 32536 images belonging to 1 classes.\n"
     ]
    },
    {
     "data": {
      "text/plain": [
       "32536"
      ]
     },
     "metadata": {},
     "output_type": "display_data"
    },
    {
     "data": {
      "text/plain": [
       "list"
      ]
     },
     "metadata": {},
     "output_type": "display_data"
    },
    {
     "data": {
      "text/plain": [
       "['test/2b2b327132556c767a736b3d.jpg',\n",
       " 'test/2b2b394755692f303963553d.jpg',\n",
       " 'test/2b2b42584e6d445937444d3d.jpg',\n",
       " 'test/2b2b44744e57674270616f3d.jpg',\n",
       " 'test/2b2b4b425a592b683059493d.jpg']"
      ]
     },
     "metadata": {},
     "output_type": "display_data"
    },
    {
     "name": "stdout",
     "output_type": "stream",
     "text": [
      "32\n"
     ]
    }
   ],
   "source": [
    "gen = ImageDataGenerator()\n",
    "test_generator = gen.flow_from_directory(\n",
    "    sl_test_folder, \n",
    "    target_size=(image_size, image_size),\n",
    "    batch_size=batch_size,\n",
    "    shuffle=False,\n",
    "    class_mode='categorical'\n",
    ")\n",
    "display(len(test_generator.filenames), type(test_generator.filenames), test_generator.filenames[:5])\n",
    "test_steps = int(len(test_generator.filenames) / batch_size) + 1\n",
    "print(test_steps)"
   ]
  },
  {
   "cell_type": "code",
   "execution_count": 13,
   "metadata": {},
   "outputs": [
    {
     "name": "stdout",
     "output_type": "stream",
     "text": [
      "/data/kaggle-Inclusive-Images/model/inclusive-images-challenge_3_InceptionResNetV2_SE_20181027-030909_2301.h5\n",
      "/data/kaggle-Inclusive-Images/model/inclusive-images-challenge_3_InceptionResNetV2_SE_20181027-030909_tag_info.pkl\n"
     ]
    }
   ],
   "source": [
    "model_file = os.path.join(model_folder, model_name)\n",
    "print(model_file)\n",
    "tag_info_file = os.path.join(model_folder, tag_info_name)\n",
    "print(tag_info_file)"
   ]
  },
  {
   "cell_type": "code",
   "execution_count": 14,
   "metadata": {},
   "outputs": [
    {
     "name": "stdout",
     "output_type": "stream",
     "text": [
      "<class 'keras.engine.training.Model'>\n"
     ]
    }
   ],
   "source": [
    "model = load_model(model_file)\n",
    "print(type(model))"
   ]
  },
  {
   "cell_type": "code",
   "execution_count": 15,
   "metadata": {},
   "outputs": [
    {
     "name": "stdout",
     "output_type": "stream",
     "text": [
      "dict_keys(['train_class_indices', 'val_class_indices', 'test_class_indices'])\n"
     ]
    }
   ],
   "source": [
    "tag_info = pickle_load(tag_info_file)\n",
    "print(tag_info.keys())"
   ]
  },
  {
   "cell_type": "code",
   "execution_count": 16,
   "metadata": {},
   "outputs": [
    {
     "name": "stdout",
     "output_type": "stream",
     "text": [
      "{0: '-m-011k07', 1: '-m-012074', 2: '-m-0120dh', 3: '-m-01226z', 4: '-m-012n7d', 5: '-m-012w5l', 6: '-m-012xff', 7: '-m-012ysf', 8: '-m-0130jx', 9: '-m-0138tl', 10: '-m-013y1f', 11: '-m-01432t', 12: '-m-014j1m', 13: '-m-014sv8', 14: '-m-014trl', 15: '-m-014y4n', 16: '-m-0152hh', 17: '-m-01599', 18: '-m-015h_t', 19: '-m-015p6', 20: '-m-015qbp', 21: '-m-015qff', 22: '-m-015wgc', 23: '-m-015x4r', 24: '-m-015x5n', 25: '-m-0162_1', 26: '-m-0167gd', 27: '-m-016m2d', 28: '-m-0174k2', 29: '-m-0174n1', 30: '-m-0175cv', 31: '-m-0176mf', 32: '-m-017ftj', 33: '-m-018j2', 34: '-m-018p4k', 35: '-m-018xm', 36: '-m-01940j', 37: '-m-0199g', 38: '-m-019dx1', 39: '-m-019h78', 40: '-m-019jd', 41: '-m-019w40', 42: '-m-01_5g', 43: '-m-01_bhs', 44: '-m-01b638', 45: '-m-01b7fy', 46: '-m-01b9xk', 47: '-m-01bfm9', 48: '-m-01bjv', 49: '-m-01bl7v', 50: '-m-01bms0', 51: '-m-01bqk0', 52: '-m-01btn', 53: '-m-01c648', 54: '-m-01cmb2', 55: '-m-01d380', 56: '-m-01d40f', 57: '-m-01dws', 58: '-m-01dwsz', 59: '-m-01dwwc', 60: '-m-01dxs', 61: '-m-01dy8n', 62: '-m-01f8m5', 63: '-m-01f91_', 64: '-m-01fb_0', 65: '-m-01fdzj', 66: '-m-01fh4r', 67: '-m-01g317', 68: '-m-01g3x7', 69: '-m-01gkx_', 70: '-m-01gllr', 71: '-m-01gmv2', 72: '-m-01h3n', 73: '-m-01h44', 74: '-m-01h8tj', 75: '-m-01hrv5', 76: '-m-01j3zr', 77: '-m-01j4z9', 78: '-m-01j51', 79: '-m-01j5ks', 80: '-m-01j61q', 81: '-m-01jfm_', 82: '-m-01jfsr', 83: '-m-01k6s3', 84: '-m-01kb5b', 85: '-m-01knjb', 86: '-m-01krhy', 87: '-m-01lcw4', 88: '-m-01llwg', 89: '-m-01lrl', 90: '-m-01lsmm', 91: '-m-01lynh', 92: '-m-01m2v', 93: '-m-01m4t', 94: '-m-01mqdt', 95: '-m-01mzpv', 96: '-m-01n4qj', 97: '-m-01n5jq', 98: '-m-01nkt', 99: '-m-01nq26', 100: '-m-01pns0', 101: '-m-01prls', 102: '-m-01r546', 103: '-m-01rkbr', 104: '-m-01rzcn', 105: '-m-01s105', 106: '-m-01s55n', 107: '-m-01tcjp', 108: '-m-01vbnl', 109: '-m-01ww8y', 110: '-m-01x3jk', 111: '-m-01x3z', 112: '-m-01x_v', 113: '-m-01xgg_', 114: '-m-01xq0k1', 115: '-m-01xqw', 116: '-m-01xs3r', 117: '-m-01xygc', 118: '-m-01xyhv', 119: '-m-01y9k5', 120: '-m-01yrx', 121: '-m-01yx86', 122: '-m-01z1kdw', 123: '-m-02068x', 124: '-m-020jm', 125: '-m-020kz', 126: '-m-020lf', 127: '-m-021mn', 128: '-m-021sj1', 129: '-m-0220r2', 130: '-m-0242l', 131: '-m-024d2', 132: '-m-024g6', 133: '-m-02522', 134: '-m-025dyy', 135: '-m-025fsf', 136: '-m-025nd', 137: '-m-025rp__', 138: '-m-0268lbt', 139: '-m-026qbn5', 140: '-m-026t6', 141: '-m-0270h', 142: '-m-0271qf7', 143: '-m-0271t', 144: '-m-027pcv', 145: '-m-027rl48', 146: '-m-0283dt1', 147: '-m-0284d', 148: '-m-029b3', 149: '-m-029bxz', 150: '-m-029tx', 151: '-m-02_n6y', 152: '-m-02bm9n', 153: '-m-02crq1', 154: '-m-02ctlc', 155: '-m-02cvgx', 156: '-m-02d1br', 157: '-m-02d9qx', 158: '-m-02ddwp', 159: '-m-02dgv', 160: '-m-02dl1y', 161: '-m-02f9f_', 162: '-m-02fh7f', 163: '-m-02fq_6', 164: '-m-02g30s', 165: '-m-02gzp', 166: '-m-02h19r', 167: '-m-02hj4', 168: '-m-02jfl0', 169: '-m-02jnhm', 170: '-m-02jvh9', 171: '-m-02jz0l', 172: '-m-02l8p9', 173: '-m-02lbcq', 174: '-m-02mqfb', 175: '-m-02p0tk3', 176: '-m-02p3w7d', 177: '-m-02p5f1q', 178: '-m-02pdsw', 179: '-m-02pjr4', 180: '-m-02pkr5', 181: '-m-02pv19', 182: '-m-02rdsp', 183: '-m-02rgn06', 184: '-m-02s195', 185: '-m-02tsc9', 186: '-m-02vkqh8', 187: '-m-02vqfm', 188: '-m-02vwcm', 189: '-m-02w3_ws', 190: '-m-02w3r3', 191: '-m-02wbm', 192: '-m-02wbtzl', 193: '-m-02wg_p', 194: '-m-02wmf', 195: '-m-02wv6h6', 196: '-m-02wv84t', 197: '-m-02x8cch', 198: '-m-02x984l', 199: '-m-02xb7qb', 200: '-m-02xqq', 201: '-m-02xwb', 202: '-m-02y6n', 203: '-m-02z51p', 204: '-m-02zn6n', 205: '-m-02zt3', 206: '-m-02zvsm', 207: '-m-030610', 208: '-m-0306r', 209: '-m-03120', 210: '-m-0319l', 211: '-m-031b6r', 212: '-m-031n1', 213: '-m-0323sq', 214: '-m-032b3c', 215: '-m-033cnk', 216: '-m-033rq4', 217: '-m-0342h', 218: '-m-034c16', 219: '-m-035r7c', 220: '-m-035vxb', 221: '-m-0388q', 222: '-m-039xj_', 223: '-m-03__z0', 224: '-m-03bbps', 225: '-m-03bj1', 226: '-m-03bk1', 227: '-m-03bt1vf', 228: '-m-03c7gz', 229: '-m-03d443', 230: '-m-03dnzn', 231: '-m-03fj2', 232: '-m-03fp41', 233: '-m-03fwl', 234: '-m-03g8mr', 235: '-m-03grzl', 236: '-m-03hj559', 237: '-m-03hl4l9', 238: '-m-03hlz0c', 239: '-m-03jbxj', 240: '-m-03jm5', 241: '-m-03k3r', 242: '-m-03kt2w', 243: '-m-03l9g', 244: '-m-03ldnb', 245: '-m-03m3pdh', 246: '-m-03m3vtv', 247: '-m-03m5k', 248: '-m-03nfch', 249: '-m-03p3bw', 250: '-m-03q5c7', 251: '-m-03q5t', 252: '-m-03q69', 253: '-m-03qhv5', 254: '-m-03qjg', 255: '-m-03qrc', 256: '-m-03rszm', 257: '-m-03s_tn', 258: '-m-03ssj5', 259: '-m-03tw93', 260: '-m-03txqz', 261: '-m-03v5tg', 262: '-m-03vt0', 263: '-m-03wvsk', 264: '-m-03wym', 265: '-m-03xxp', 266: '-m-03y6mg', 267: '-m-040b_t', 268: '-m-04169hn', 269: '-m-0420v5', 270: '-m-043nyj', 271: '-m-0440zs', 272: '-m-0449p', 273: '-m-044r5d', 274: '-m-0463sg', 275: '-m-046dlr', 276: '-m-047j0r', 277: '-m-047v4b', 278: '-m-04_sv', 279: '-m-04bcr3', 280: '-m-04brg2', 281: '-m-04c0y', 282: '-m-04cp_', 283: '-m-04ctx', 284: '-m-04dr76w', 285: '-m-04f5ws', 286: '-m-04g2r', 287: '-m-04gth', 288: '-m-04h7h', 289: '-m-04h8sr', 290: '-m-04hgtk', 291: '-m-04kkgm', 292: '-m-04lvq_', 293: '-m-04m6gz', 294: '-m-04m9y', 295: '-m-04p0qw', 296: '-m-04rky', 297: '-m-04rmv', 298: '-m-04szw', 299: '-m-04tn4x', 300: '-m-04v6l4', 301: '-m-04vv5k', 302: '-m-04y4h8h', 303: '-m-04ylt', 304: '-m-04yqq2', 305: '-m-04yx4', 306: '-m-04z4wx', 307: '-m-04zpv', 308: '-m-04zwwv', 309: '-m-050gv4', 310: '-m-050k8', 311: '-m-052lwg6', 312: '-m-052sf', 313: '-m-05441v', 314: '-m-054_l', 315: '-m-054fyh', 316: '-m-054xkw', 317: '-m-05676x', 318: '-m-057cc', 319: '-m-057p5t', 320: '-m-0584n8', 321: '-m-058qzx', 322: '-m-05_5p_0', 323: '-m-05bm6', 324: '-m-05ctyq', 325: '-m-05gqfk', 326: '-m-05kms', 327: '-m-05kyg_', 328: '-m-05n4y', 329: '-m-05r5c', 330: '-m-05r655', 331: '-m-05s2s', 332: '-m-05vtc', 333: '-m-05w9t9', 334: '-m-05y5lj', 335: '-m-05z55', 336: '-m-05z6w', 337: '-m-05zsy', 338: '-m-061_f', 339: '-m-061hd_', 340: '-m-0633h', 341: '-m-063rgb', 342: '-m-0642b4', 343: '-m-065h6l', 344: '-m-0663v', 345: '-m-068zj', 346: '-m-06_72j', 347: '-m-06__v', 348: '-m-06_fw', 349: '-m-06bt6', 350: '-m-06c54', 351: '-m-06c7f7', 352: '-m-06j2d', 353: '-m-06k2mb', 354: '-m-06l9r', 355: '-m-06m11', 356: '-m-06mf6', 357: '-m-06msq', 358: '-m-06ncr', 359: '-m-06nrc', 360: '-m-06nwz', 361: '-m-06pcq', 362: '-m-06y5r', 363: '-m-06z37_', 364: '-m-07030', 365: '-m-0703r8', 366: '-m-071p9', 367: '-m-071qp', 368: '-m-073bxn', 369: '-m-073g6', 370: '-m-074d1', 371: '-m-0755b', 372: '-m-076bq', 373: '-m-076lb9', 374: '-m-078jl', 375: '-m-078n6m', 376: '-m-079cl', 377: '-m-07bgp', 378: '-m-07c52', 379: '-m-07c6l', 380: '-m-07clx', 381: '-m-07cmd', 382: '-m-07crc', 383: '-m-07cx4', 384: '-m-07dd4', 385: '-m-07dm6', 386: '-m-07fbm7', 387: '-m-07gql', 388: '-m-07j7r', 389: '-m-07j87', 390: '-m-07jdr', 391: '-m-07k1x', 392: '-m-07kng9', 393: '-m-07mcwg', 394: '-m-07mhn', 395: '-m-07pj7bq', 396: '-m-07qxg_', 397: '-m-07r04', 398: '-m-07v9_z', 399: '-m-07xyvk', 400: '-m-07y_7', 401: '-m-07yv9', 402: '-m-080hkjn', 403: '-m-080n7g', 404: '-m-081qc', 405: '-m-083kb', 406: '-m-083wq', 407: '-m-084hf', 408: '-m-084rd', 409: '-m-084zz', 410: '-m-0898b', 411: '-m-08dz3q', 412: '-m-08hvt4', 413: '-m-08ks85', 414: '-m-08p92x', 415: '-m-08pbxl', 416: '-m-096mb', 417: '-m-09728', 418: '-m-099ssp', 419: '-m-09b5t', 420: '-m-09csl', 421: '-m-09ct_', 422: '-m-09d5_', 423: '-m-09ddx', 424: '-m-09dzg', 425: '-m-09f20', 426: '-m-09f_2', 427: '-m-09g1w', 428: '-m-09gtd', 429: '-m-09gys', 430: '-m-09j2d', 431: '-m-09j5n', 432: '-m-09k_b', 433: '-m-09kmb', 434: '-m-09kx5', 435: '-m-09ld4', 436: '-m-09qck', 437: '-m-09rvcxw', 438: '-m-09tvcd', 439: '-m-0_cp5', 440: '-m-0_dqb', 441: '-m-0_k2', 442: '-m-0b3fp9', 443: '-m-0b_rs', 444: '-m-0bh9flk', 445: '-m-0bjyj5', 446: '-m-0bt9lr', 447: '-m-0bt_c3', 448: '-m-0bwd_0j', 449: '-m-0by6g', 450: '-m-0c06p', 451: '-m-0c29q', 452: '-m-0c2jj', 453: '-m-0c3m8g', 454: '-m-0c3mkw', 455: '-m-0c568', 456: '-m-0c9ph5', 457: '-m-0c_jw', 458: '-m-0ccs93', 459: '-m-0cd4d', 460: '-m-0cdl1', 461: '-m-0cdn1', 462: '-m-0cffdh', 463: '-m-0cgh4', 464: '-m-0ch_cf', 465: '-m-0cjq5', 466: '-m-0cjs7', 467: '-m-0cl4p', 468: '-m-0cmf2', 469: '-m-0cmx8', 470: '-m-0cn6p', 471: '-m-0cnyhnx', 472: '-m-0cqn2', 473: '-m-0crjs', 474: '-m-0ct4f', 475: '-m-0cvnqh', 476: '-m-0cxn2', 477: '-m-0cydv', 478: '-m-0cyf8', 479: '-m-0cyfs', 480: '-m-0cyhj_', 481: '-m-0czz2', 482: '-m-0d20w4', 483: '-m-0d4v4', 484: '-m-0d4w1', 485: '-m-0d5gx', 486: '-m-0d8zb', 487: '-m-0d_2m', 488: '-m-0dbvp', 489: '-m-0dbzx', 490: '-m-0dftk', 491: '-m-0dj6p', 492: '-m-0djtd', 493: '-m-0dkzw', 494: '-m-0dq75', 495: '-m-0dt3t', 496: '-m-0dtln', 497: '-m-0dv5r', 498: '-m-0dv77', 499: '-m-0dv9c', 500: '-m-0dzct', 501: '-m-0dzf4', 502: '-m-0f4s2w', 503: '-m-0f571', 504: '-m-0f6nr', 505: '-m-0f6wt', 506: '-m-0f8s22', 507: '-m-0f9_l', 508: '-m-0fbdv', 509: '-m-0fbw6', 510: '-m-0fj52s', 511: '-m-0fldg', 512: '-m-0fly7', 513: '-m-0fm3zh', 514: '-m-0fp6w', 515: '-m-0fqfqc', 516: '-m-0fqt361', 517: '-m-0frqm', 518: '-m-0fszt', 519: '-m-0ft9s', 520: '-m-0ftb8', 521: '-m-0fx9l', 522: '-m-0fz0h', 523: '-m-0gd2v', 524: '-m-0gd36', 525: '-m-0gj37', 526: '-m-0gjbg72', 527: '-m-0gjkl', 528: '-m-0gm28', 529: '-m-0grw1', 530: '-m-0gv1x', 531: '-m-0gxl3', 532: '-m-0h23m', 533: '-m-0h2r6', 534: '-m-0h8jyh6', 535: '-m-0h8kx63', 536: '-m-0h8l4fh', 537: '-m-0h8lkj8', 538: '-m-0h8mhzd', 539: '-m-0h8my_4', 540: '-m-0h8mzrc', 541: '-m-0h8n27j', 542: '-m-0h8n5zk', 543: '-m-0h8n6f9', 544: '-m-0h8n6ft', 545: '-m-0h8nm9j', 546: '-m-0h8nr_l', 547: '-m-0h8nsvg', 548: '-m-0h8ntjv', 549: '-m-0h99cwc', 550: '-m-0h9mv', 551: '-m-0hdln', 552: '-m-0hf58v5', 553: '-m-0hg7b', 554: '-m-0hkxq', 555: '-m-0hnnb', 556: '-m-0hnyx', 557: '-m-0hqkz', 558: '-m-0j496', 559: '-m-0jbk', 560: '-m-0jg57', 561: '-m-0jly1', 562: '-m-0jqgx', 563: '-m-0jwn_', 564: '-m-0jy4k', 565: '-m-0jyfg', 566: '-m-0k0pj', 567: '-m-0k1tl', 568: '-m-0k4j', 569: '-m-0k5j', 570: '-m-0k65p', 571: '-m-0km7z', 572: '-m-0kmg4', 573: '-m-0kpqd', 574: '-m-0kpt_', 575: '-m-0ky7b', 576: '-m-0l14j_', 577: '-m-0l3ms', 578: '-m-0l515', 579: '-m-0ll1f78', 580: '-m-0llzx', 581: '-m-0lt4_', 582: '-m-0m53l', 583: '-m-0mcx2', 584: '-m-0mkg', 585: '-m-0mw_6', 586: '-m-0n28_', 587: '-m-0nl46', 588: '-m-0nybt', 589: '-m-0p833', 590: '-m-0pcr', 591: '-m-0pg52', 592: '-m-0ph39', 593: '-m-0qjjc', 594: '-m-0qmmr', 595: '-m-0wdt60w', 596: '-m-0xfy', 597: '-m-0xzly', 598: '-m-0zvk5'}\n"
     ]
    }
   ],
   "source": [
    "label2num = tag_info['train_class_indices']\n",
    "num2label = {}\n",
    "for key in label2num:\n",
    "    num2label[label2num[key]] = key\n",
    "print(num2label)"
   ]
  },
  {
   "cell_type": "code",
   "execution_count": 17,
   "metadata": {},
   "outputs": [
    {
     "name": "stdout",
     "output_type": "stream",
     "text": [
      "32/32 [==============================] - 376s 12s/step\n",
      "<class 'numpy.ndarray'> (32536, 599)\n"
     ]
    }
   ],
   "source": [
    "test_result = model.predict_generator(test_generator, steps=test_steps, max_queue_size=batch_size, workers=1, use_multiprocessing=False, verbose=1)\n",
    "print(type(test_result), test_result.shape)"
   ]
  },
  {
   "cell_type": "code",
   "execution_count": 18,
   "metadata": {},
   "outputs": [
    {
     "data": {
      "text/plain": [
       "array([[472, 393, 503, 382, 264, 453,  76,  11, 263,  22, 269, 246, 199,\n",
       "         59, 361, 577, 413, 535,  50, 206],\n",
       "       [ 86, 563, 413, 313, 264, 597, 491, 158, 474, 571, 472, 585, 379,\n",
       "        193, 403, 548, 511, 194,  24, 174],\n",
       "       [ 22,  76, 269, 472,  63, 503, 382, 306, 393, 264, 199, 535,  59,\n",
       "        206, 361, 369,  50, 577, 263, 453],\n",
       "       [ 22, 577, 535, 269,  93, 369, 453, 399, 472,  50,  63, 185,  76,\n",
       "        263, 207, 264, 503,  83, 306,  59],\n",
       "       [393, 585, 535, 193, 361, 164, 382, 472, 253, 313, 571,  76, 155,\n",
       "        511, 264, 597, 333, 554, 473, 548]])"
      ]
     },
     "metadata": {},
     "output_type": "display_data"
    }
   ],
   "source": [
    "test_result_sort = np.argsort(test_result)\n",
    "display(test_result_sort[:5, :20])"
   ]
  },
  {
   "cell_type": "code",
   "execution_count": 19,
   "metadata": {},
   "outputs": [
    {
     "name": "stdout",
     "output_type": "stream",
     "text": [
      "<class 'numpy.ndarray'>\n",
      "(32536, 599)\n",
      "--------------------------------"
     ]
    },
    {
     "data": {
      "text/plain": [
       "(32536, 2)"
      ]
     },
     "metadata": {},
     "output_type": "display_data"
    },
    {
     "data": {
      "text/html": [
       "<div>\n",
       "<style scoped>\n",
       "    .dataframe tbody tr th:only-of-type {\n",
       "        vertical-align: middle;\n",
       "    }\n",
       "\n",
       "    .dataframe tbody tr th {\n",
       "        vertical-align: top;\n",
       "    }\n",
       "\n",
       "    .dataframe thead th {\n",
       "        text-align: right;\n",
       "    }\n",
       "</style>\n",
       "<table border=\"1\" class=\"dataframe\">\n",
       "  <thead>\n",
       "    <tr style=\"text-align: right;\">\n",
       "      <th></th>\n",
       "      <th>image_id</th>\n",
       "      <th>labels</th>\n",
       "    </tr>\n",
       "  </thead>\n",
       "  <tbody>\n",
       "    <tr>\n",
       "      <th>0</th>\n",
       "      <td>2b2b327132556c767a736b3d</td>\n",
       "      <td>-m-0cqn2 -m-07mcwg</td>\n",
       "    </tr>\n",
       "    <tr>\n",
       "      <th>1</th>\n",
       "      <td>2b2b394755692f303963553d</td>\n",
       "      <td>-m-01krhy -m-0jwn_</td>\n",
       "    </tr>\n",
       "    <tr>\n",
       "      <th>2</th>\n",
       "      <td>2b2b42584e6d445937444d3d</td>\n",
       "      <td>-m-015wgc -m-01j3zr</td>\n",
       "    </tr>\n",
       "    <tr>\n",
       "      <th>3</th>\n",
       "      <td>2b2b44744e57674270616f3d</td>\n",
       "      <td>-m-015wgc -m-0l3ms</td>\n",
       "    </tr>\n",
       "    <tr>\n",
       "      <th>4</th>\n",
       "      <td>2b2b4b425a592b683059493d</td>\n",
       "      <td>-m-07mcwg -m-0mw_6</td>\n",
       "    </tr>\n",
       "  </tbody>\n",
       "</table>\n",
       "</div>"
      ],
      "text/plain": [
       "                   image_id               labels\n",
       "0  2b2b327132556c767a736b3d   -m-0cqn2 -m-07mcwg\n",
       "1  2b2b394755692f303963553d   -m-01krhy -m-0jwn_\n",
       "2  2b2b42584e6d445937444d3d  -m-015wgc -m-01j3zr\n",
       "3  2b2b44744e57674270616f3d   -m-015wgc -m-0l3ms\n",
       "4  2b2b4b425a592b683059493d   -m-07mcwg -m-0mw_6"
      ]
     },
     "metadata": {},
     "output_type": "display_data"
    }
   ],
   "source": [
    "def fetch_max(nparr, filenames, num2label):\n",
    "    nparr_sort = np.argsort(nparr)\n",
    "    print(type(nparr_sort))\n",
    "    print(nparr_sort.shape)\n",
    "    \n",
    "    result_arr = []\n",
    "    temp_df = pd.DataFrame(columns=['image_id', 'labels'])\n",
    "    idx = 0\n",
    "    for i, item in enumerate(zip(filenames, nparr_sort, nparr)):\n",
    "#         if i > 3:\n",
    "#             break\n",
    "        image_id = item[0][5:-4]\n",
    "#         print(image_id)\n",
    "        labels = [num2label[label] for label in item[1][:2]]\n",
    "        temp_df.loc[idx] = (image_id, ' '.join(labels))\n",
    "        idx += 1\n",
    "        if idx == 1000:\n",
    "            print('-', end='')\n",
    "            result_arr.append(temp_df)\n",
    "            idx = 0\n",
    "            temp_df = pd.DataFrame(columns=['image_id', 'labels'])\n",
    "    result_arr.append(temp_df)\n",
    "    result_df = pd.concat(result_arr)\n",
    "    return result_df\n",
    "    \n",
    "top_n_df = fetch_max(test_result, test_generator.filenames, num2label)\n",
    "display(top_n_df.shape)\n",
    "display(top_n_df.head())"
   ]
  },
  {
   "cell_type": "code",
   "execution_count": 20,
   "metadata": {},
   "outputs": [
    {
     "data": {
      "text/plain": [
       "(32580, 2)"
      ]
     },
     "metadata": {},
     "output_type": "display_data"
    },
    {
     "data": {
      "text/html": [
       "<div>\n",
       "<style scoped>\n",
       "    .dataframe tbody tr th:only-of-type {\n",
       "        vertical-align: middle;\n",
       "    }\n",
       "\n",
       "    .dataframe tbody tr th {\n",
       "        vertical-align: top;\n",
       "    }\n",
       "\n",
       "    .dataframe thead th {\n",
       "        text-align: right;\n",
       "    }\n",
       "</style>\n",
       "<table border=\"1\" class=\"dataframe\">\n",
       "  <thead>\n",
       "    <tr style=\"text-align: right;\">\n",
       "      <th></th>\n",
       "      <th>image_id</th>\n",
       "      <th>labels</th>\n",
       "    </tr>\n",
       "  </thead>\n",
       "  <tbody>\n",
       "    <tr>\n",
       "      <th>0</th>\n",
       "      <td>2b2b327132556c767a736b3d</td>\n",
       "      <td>-m-0cqn2 -m-07mcwg</td>\n",
       "    </tr>\n",
       "    <tr>\n",
       "      <th>1</th>\n",
       "      <td>2b2b394755692f303963553d</td>\n",
       "      <td>-m-01krhy -m-0jwn_</td>\n",
       "    </tr>\n",
       "    <tr>\n",
       "      <th>2</th>\n",
       "      <td>2b2b42584e6d445937444d3d</td>\n",
       "      <td>-m-015wgc -m-01j3zr</td>\n",
       "    </tr>\n",
       "    <tr>\n",
       "      <th>3</th>\n",
       "      <td>2b2b44744e57674270616f3d</td>\n",
       "      <td>-m-015wgc -m-0l3ms</td>\n",
       "    </tr>\n",
       "    <tr>\n",
       "      <th>4</th>\n",
       "      <td>2b2b4b425a592b683059493d</td>\n",
       "      <td>-m-07mcwg -m-0mw_6</td>\n",
       "    </tr>\n",
       "  </tbody>\n",
       "</table>\n",
       "</div>"
      ],
      "text/plain": [
       "                   image_id               labels\n",
       "0  2b2b327132556c767a736b3d   -m-0cqn2 -m-07mcwg\n",
       "1  2b2b394755692f303963553d   -m-01krhy -m-0jwn_\n",
       "2  2b2b42584e6d445937444d3d  -m-015wgc -m-01j3zr\n",
       "3  2b2b44744e57674270616f3d   -m-015wgc -m-0l3ms\n",
       "4  2b2b4b425a592b683059493d   -m-07mcwg -m-0mw_6"
      ]
     },
     "metadata": {},
     "output_type": "display_data"
    }
   ],
   "source": [
    "merged_df = pd.merge(left=stage_1_sample_submission_df, right=top_n_df, how='left', on=['image_id'])\n",
    "merged_df = merged_df.drop(columns=['labels_x'])\n",
    "merged_df.columns = ['image_id', 'labels']\n",
    "display(merged_df.shape)\n",
    "display(merged_df.head())"
   ]
  },
  {
   "cell_type": "code",
   "execution_count": 21,
   "metadata": {},
   "outputs": [
    {
     "name": "stdout",
     "output_type": "stream",
     "text": [
      "/data/kaggle-Inclusive-Images/output/inclusive-images-challenge_3_InceptionResNetV2_SE_20181027-030909_2301.csv\n"
     ]
    }
   ],
   "source": [
    "submission_csv_file = os.path.join(output_folder, '%s.csv' % model_name0)\n",
    "print(submission_csv_file)\n",
    "merged_df.to_csv(submission_csv_file, index=False)"
   ]
  },
  {
   "cell_type": "code",
   "execution_count": null,
   "metadata": {},
   "outputs": [],
   "source": []
  },
  {
   "cell_type": "code",
   "execution_count": 22,
   "metadata": {},
   "outputs": [
    {
     "name": "stdout",
     "output_type": "stream",
     "text": [
      "inclusive-images-challenge_3_InceptionResNetV2_SE_Predict_20181028-130513\n",
      "Time elapsed: 543.85 s\n"
     ]
    }
   ],
   "source": [
    "print(run_name)\n",
    "print('Time elapsed: %.2f s' % (time.time() - time0))"
   ]
  },
  {
   "cell_type": "code",
   "execution_count": null,
   "metadata": {},
   "outputs": [],
   "source": []
  }
 ],
 "metadata": {
  "kernelspec": {
   "display_name": "Python [default]",
   "language": "python",
   "name": "python3"
  },
  "language_info": {
   "codemirror_mode": {
    "name": "ipython",
    "version": 3
   },
   "file_extension": ".py",
   "mimetype": "text/x-python",
   "name": "python",
   "nbconvert_exporter": "python",
   "pygments_lexer": "ipython3",
   "version": "3.6.5"
  }
 },
 "nbformat": 4,
 "nbformat_minor": 2
}
