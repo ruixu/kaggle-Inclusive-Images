{
 "cells": [
  {
   "cell_type": "markdown",
   "metadata": {},
   "source": [
    "# 3. InceptionResNetV2_SE_Predict"
   ]
  },
  {
   "cell_type": "markdown",
   "metadata": {},
   "source": [
    "## Run name"
   ]
  },
  {
   "cell_type": "code",
   "execution_count": 1,
   "metadata": {},
   "outputs": [
    {
     "name": "stdout",
     "output_type": "stream",
     "text": [
      "run_name: inclusive-images-challenge_3_InceptionResNetV2_SE_Predict_20181026-132138\n"
     ]
    }
   ],
   "source": [
    "import time\n",
    "\n",
    "project_name = 'inclusive-images-challenge'\n",
    "step_name = '3_InceptionResNetV2_SE_Predict'\n",
    "time_str = time.strftime(\"%Y%m%d-%H%M%S\", time.localtime())\n",
    "run_name = project_name + '_' + step_name + '_' + time_str\n",
    "print('run_name: ' + run_name)\n",
    "\n",
    "time0 = time.time()"
   ]
  },
  {
   "cell_type": "markdown",
   "metadata": {},
   "source": [
    "## Import pkgs"
   ]
  },
  {
   "cell_type": "code",
   "execution_count": 2,
   "metadata": {},
   "outputs": [
    {
     "name": "stderr",
     "output_type": "stream",
     "text": [
      "/home/ubuntu/anaconda3/envs/tensorflow_p36/lib/python3.6/site-packages/matplotlib/font_manager.py:278: UserWarning: Matplotlib is building the font cache using fc-list. This may take a moment.\n",
      "  'Matplotlib is building the font cache using fc-list. '\n"
     ]
    },
    {
     "name": "stdout",
     "output_type": "stream",
     "text": [
      "cpu_amount: 1\n",
      "random_num: 7912\n"
     ]
    },
    {
     "name": "stderr",
     "output_type": "stream",
     "text": [
      "/home/ubuntu/anaconda3/envs/tensorflow_p36/lib/python3.6/site-packages/sklearn/cross_validation.py:41: DeprecationWarning: This module was deprecated in version 0.18 in favor of the model_selection module into which all the refactored classes and functions are moved. Also note that the interface of the new CV iterators are different from that of this module. This module will be removed in 0.20.\n",
      "  \"This module will be removed in 0.20.\", DeprecationWarning)\n"
     ]
    }
   ],
   "source": [
    "import os\n",
    "import random\n",
    "import time\n",
    "import re\n",
    "from tqdm import tqdm\n",
    "import multiprocessing\n",
    "from tqdm import tqdm_notebook\n",
    "\n",
    "import pandas as pd\n",
    "import numpy as np\n",
    "import matplotlib.pyplot as plt\n",
    "import seaborn\n",
    "%matplotlib inline\n",
    "\n",
    "from sklearn.datasets import load_breast_cancer\n",
    "from sklearn.preprocessing import OneHotEncoder, StandardScaler\n",
    "from sklearn.cross_validation import train_test_split\n",
    "from sklearn.model_selection import train_test_split, GridSearchCV\n",
    "from sklearn.metrics import accuracy_score, precision_score, recall_score, fbeta_score, jaccard_similarity_score\n",
    "\n",
    "cpu_amount = multiprocessing.cpu_count()\n",
    "random_num = np.random.randint(0, 9999)\n",
    "random_num_str = '%04d' % random_num\n",
    "\n",
    "print('cpu_amount: %s' % (cpu_amount - 1))\n",
    "print('random_num: %s' % random_num_str)"
   ]
  },
  {
   "cell_type": "markdown",
   "metadata": {},
   "source": [
    "## Project folders"
   ]
  },
  {
   "cell_type": "code",
   "execution_count": 3,
   "metadata": {},
   "outputs": [
    {
     "name": "stdout",
     "output_type": "stream",
     "text": [
      "/data/kaggle-Inclusive-Images/feature\n",
      "/data/kaggle-Inclusive-Images/input\n",
      "/data/kaggle-Inclusive-Images/output\n",
      "/data/kaggle-Inclusive-Images/model\n",
      "/data/kaggle-Inclusive-Images/log\n",
      "/data/kaggle-Inclusive-Images/input/train\n",
      "/data/kaggle-Inclusive-Images/input/validation\n",
      "/data/kaggle-Inclusive-Images/input/test\n",
      "/data/kaggle-Inclusive-Images/input/stage_1_test_images\n",
      "/data/kaggle-Inclusive-Images/input/sl_train\n",
      "/data/kaggle-Inclusive-Images/input/sl_val\n",
      "/data/kaggle-Inclusive-Images/input/sl_test\n",
      "/data/kaggle-Inclusive-Images/input/class-descriptions.csv\n",
      "/data/kaggle-Inclusive-Images/input/classes-trainable.csv\n",
      "/data/kaggle-Inclusive-Images/input/stage_1_attributions.csv\n",
      "/data/kaggle-Inclusive-Images/input/stage_1_sample_submission.csv\n",
      "/data/kaggle-Inclusive-Images/input/train_bounding_boxes.csv\n",
      "/data/kaggle-Inclusive-Images/input/train_human_labels.csv\n",
      "/data/kaggle-Inclusive-Images/input/train_machine_labels.csv\n",
      "/data/kaggle-Inclusive-Images/input/tuning_labels.csv\n"
     ]
    }
   ],
   "source": [
    "cwd = os.getcwd()\n",
    "feature_folder = os.path.join(cwd, 'feature')\n",
    "input_folder = os.path.join(cwd, 'input')\n",
    "output_folder = os.path.join(cwd, 'output')\n",
    "model_folder = os.path.join(cwd, 'model')\n",
    "log_folder = os.path.join(cwd, 'log')\n",
    "\n",
    "cwd = os.getcwd()\n",
    "feature_folder = os.path.join(cwd, 'feature')\n",
    "input_folder = os.path.join(cwd, 'input')\n",
    "output_folder = os.path.join(cwd, 'output')\n",
    "model_folder = os.path.join(cwd, 'model')\n",
    "log_folder = os.path.join(cwd, 'log')\n",
    "\n",
    "print(feature_folder)\n",
    "print(input_folder)\n",
    "print(output_folder)\n",
    "print(model_folder)\n",
    "print(log_folder)\n",
    "train_folder = os.path.join(input_folder, 'train')\n",
    "validation_folder = os.path.join(input_folder, 'validation')\n",
    "test_folder = os.path.join(input_folder, 'test')\n",
    "stage_1_test_images_folder = os.path.join(input_folder, 'stage_1_test_images')\n",
    "sl_train_folder = os.path.join(input_folder, 'sl_train')\n",
    "sl_val_folder = os.path.join(input_folder, 'sl_val')\n",
    "sl_test_folder = os.path.join(input_folder, 'sl_test')\n",
    "\n",
    "print(train_folder)\n",
    "print(validation_folder)\n",
    "print(test_folder)\n",
    "print(stage_1_test_images_folder)\n",
    "print(sl_train_folder)\n",
    "print(sl_val_folder)\n",
    "print(sl_test_folder)\n",
    "\n",
    "class_descriptions_csv = os.path.join(input_folder, 'class-descriptions.csv')\n",
    "class_trainable_csv = os.path.join(input_folder, 'classes-trainable.csv')\n",
    "stage_1_attributions_csv = os.path.join(input_folder, 'stage_1_attributions.csv')\n",
    "stage_1_sample_submission_csv = os.path.join(input_folder, 'stage_1_sample_submission.csv')\n",
    "train_bounding_boxes_csv = os.path.join(input_folder, 'train_bounding_boxes.csv')\n",
    "train_human_labels_csv = os.path.join(input_folder, 'train_human_labels.csv')\n",
    "train_machine_labels_csv = os.path.join(input_folder, 'train_machine_labels.csv')\n",
    "tuning_labels_csv = os.path.join(input_folder, 'tuning_labels.csv')\n",
    "\n",
    "print(class_descriptions_csv)\n",
    "print(class_trainable_csv)\n",
    "print(stage_1_attributions_csv)\n",
    "print(stage_1_sample_submission_csv)\n",
    "print(train_bounding_boxes_csv)\n",
    "print(train_human_labels_csv)\n",
    "print(train_machine_labels_csv)\n",
    "print(tuning_labels_csv)"
   ]
  },
  {
   "cell_type": "code",
   "execution_count": null,
   "metadata": {},
   "outputs": [],
   "source": []
  },
  {
   "cell_type": "code",
   "execution_count": null,
   "metadata": {},
   "outputs": [],
   "source": []
  },
  {
   "cell_type": "code",
   "execution_count": 4,
   "metadata": {},
   "outputs": [
    {
     "name": "stdout",
     "output_type": "stream",
     "text": [
      "inclusive-images-challenge_3_InceptionResNetV2_SE_Predict_20181026-132138\n",
      "Time elapsed: 51.60 s\n"
     ]
    }
   ],
   "source": [
    "print(run_name)\n",
    "print('Time elapsed: %.2f s' % (time.time() - time0))"
   ]
  },
  {
   "cell_type": "code",
   "execution_count": null,
   "metadata": {},
   "outputs": [],
   "source": []
  }
 ],
 "metadata": {
  "kernelspec": {
   "display_name": "Python [default]",
   "language": "python",
   "name": "python3"
  },
  "language_info": {
   "codemirror_mode": {
    "name": "ipython",
    "version": 3
   },
   "file_extension": ".py",
   "mimetype": "text/x-python",
   "name": "python",
   "nbconvert_exporter": "python",
   "pygments_lexer": "ipython3",
   "version": "3.6.5"
  }
 },
 "nbformat": 4,
 "nbformat_minor": 2
}
