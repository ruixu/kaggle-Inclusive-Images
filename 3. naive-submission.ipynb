{
 "cells": [
  {
   "cell_type": "markdown",
   "metadata": {},
   "source": [
    "# 3. naive-submission\n",
    "Kaggle score: 0.119\n",
    "\n",
    "Abstrct:\n",
    "- train table might have similar distribution of labels to submission.csv\n",
    "\n",
    "Reference:\n",
    "- https://www.kaggle.com/petrov/naive-submission-0-262"
   ]
  },
  {
   "cell_type": "markdown",
   "metadata": {},
   "source": [
    "## Run name"
   ]
  },
  {
   "cell_type": "code",
   "execution_count": 1,
   "metadata": {},
   "outputs": [],
   "source": [
    "import time\n",
    "\n",
    "project_name = '3. naive-submission'\n",
    "time_str = time.strftime(\"%Y%m%d-%H%M%S\", time.localtime())\n",
    "run_name = '%s_%s' % (project_name, time_str)\n",
    "print(run_name)\n",
    "\n",
    "time0 = time.time()"
   ]
  },
  {
   "cell_type": "markdown",
   "metadata": {},
   "source": [
    "## Important params"
   ]
  },
  {
   "cell_type": "code",
   "execution_count": 2,
   "metadata": {},
   "outputs": [
    {
     "name": "stdout",
     "output_type": "stream",
     "text": [
      "3 1000000\n"
     ]
    }
   ],
   "source": [
    "top_n = 3\n",
    "run_rows = 100*10000\n",
    "\n",
    "print(top_n, run_rows)"
   ]
  },
  {
   "cell_type": "markdown",
   "metadata": {},
   "source": [
    "## Import pkgs"
   ]
  },
  {
   "cell_type": "code",
   "execution_count": 3,
   "metadata": {},
   "outputs": [
    {
     "name": "stderr",
     "output_type": "stream",
     "text": [
      "C:\\Users\\study\\Anaconda3\\lib\\site-packages\\sklearn\\cross_validation.py:41: DeprecationWarning: This module was deprecated in version 0.18 in favor of the model_selection module into which all the refactored classes and functions are moved. Also note that the interface of the new CV iterators are different from that of this module. This module will be removed in 0.20.\n",
      "  \"This module will be removed in 0.20.\", DeprecationWarning)\n"
     ]
    },
    {
     "name": "stdout",
     "output_type": "stream",
     "text": [
      "cpu_amount: 3\n",
      "random_num: 5300\n"
     ]
    }
   ],
   "source": [
    "import os\n",
    "import random\n",
    "import time\n",
    "import re\n",
    "from tqdm import tqdm\n",
    "import multiprocessing\n",
    "from tqdm import tqdm_notebook\n",
    "\n",
    "import pandas as pd\n",
    "import numpy as np\n",
    "import matplotlib.pyplot as plt\n",
    "import seaborn\n",
    "%matplotlib inline\n",
    "\n",
    "from sklearn.datasets import load_breast_cancer\n",
    "from sklearn.preprocessing import OneHotEncoder, StandardScaler\n",
    "from sklearn.cross_validation import train_test_split\n",
    "from sklearn.model_selection import train_test_split, GridSearchCV\n",
    "from sklearn.metrics import accuracy_score, precision_score, recall_score, fbeta_score, jaccard_similarity_score\n",
    "\n",
    "cpu_amount = multiprocessing.cpu_count()\n",
    "random_num = np.random.randint(0, 9999)\n",
    "random_num_str = '%04d' % random_num\n",
    "\n",
    "print('cpu_amount: %s' % (cpu_amount - 1))\n",
    "print('random_num: %s' % random_num_str)"
   ]
  },
  {
   "cell_type": "markdown",
   "metadata": {},
   "source": [
    "## Project folders"
   ]
  },
  {
   "cell_type": "code",
   "execution_count": 4,
   "metadata": {},
   "outputs": [
    {
     "name": "stdout",
     "output_type": "stream",
     "text": [
      "D:\\kaggle-Inclusive-Images\\feature\n",
      "D:\\kaggle-Inclusive-Images\\input\n",
      "D:\\kaggle-Inclusive-Images\\output\n",
      "D:\\kaggle-Inclusive-Images\\model\n",
      "D:\\kaggle-Inclusive-Images\\log\n",
      "D:\\kaggle-Inclusive-Images\\input\\train_human_labels.csv\n",
      "D:\\kaggle-Inclusive-Images\\input\\stage_1_sample_submission.csv\n"
     ]
    }
   ],
   "source": [
    "cwd = os.getcwd()\n",
    "feature_folder = os.path.join(cwd, 'feature')\n",
    "input_folder = os.path.join(cwd, 'input')\n",
    "output_folder = os.path.join(cwd, 'output')\n",
    "model_folder = os.path.join(cwd, 'model')\n",
    "log_folder = os.path.join(cwd, 'log')\n",
    "\n",
    "print(feature_folder)\n",
    "print(input_folder)\n",
    "print(output_folder)\n",
    "print(model_folder)\n",
    "print(log_folder)\n",
    "\n",
    "train_human_labels_csv = os.path.join(input_folder, 'train_human_labels.csv')\n",
    "stage_1_sample_submission_csv = os.path.join(input_folder, 'stage_1_sample_submission.csv')\n",
    "print(train_human_labels_csv)\n",
    "print(stage_1_sample_submission_csv)"
   ]
  },
  {
   "cell_type": "code",
   "execution_count": 5,
   "metadata": {},
   "outputs": [
    {
     "data": {
      "text/plain": [
       "(1000000, 3)"
      ]
     },
     "metadata": {},
     "output_type": "display_data"
    },
    {
     "data": {
      "text/html": [
       "<div>\n",
       "<style scoped>\n",
       "    .dataframe tbody tr th:only-of-type {\n",
       "        vertical-align: middle;\n",
       "    }\n",
       "\n",
       "    .dataframe tbody tr th {\n",
       "        vertical-align: top;\n",
       "    }\n",
       "\n",
       "    .dataframe thead th {\n",
       "        text-align: right;\n",
       "    }\n",
       "</style>\n",
       "<table border=\"1\" class=\"dataframe\">\n",
       "  <thead>\n",
       "    <tr style=\"text-align: right;\">\n",
       "      <th></th>\n",
       "      <th>Source</th>\n",
       "      <th>LabelName</th>\n",
       "      <th>Confidence</th>\n",
       "    </tr>\n",
       "    <tr>\n",
       "      <th>ImageID</th>\n",
       "      <th></th>\n",
       "      <th></th>\n",
       "      <th></th>\n",
       "    </tr>\n",
       "  </thead>\n",
       "  <tbody>\n",
       "    <tr>\n",
       "      <th>000002b66c9c498e</th>\n",
       "      <td>crowdsource-verification</td>\n",
       "      <td>/m/01kcnl</td>\n",
       "      <td>1</td>\n",
       "    </tr>\n",
       "    <tr>\n",
       "      <th>000002b66c9c498e</th>\n",
       "      <td>verification</td>\n",
       "      <td>/m/012mj</td>\n",
       "      <td>1</td>\n",
       "    </tr>\n",
       "    <tr>\n",
       "      <th>000002b66c9c498e</th>\n",
       "      <td>verification</td>\n",
       "      <td>/m/012yh1</td>\n",
       "      <td>1</td>\n",
       "    </tr>\n",
       "    <tr>\n",
       "      <th>000002b66c9c498e</th>\n",
       "      <td>verification</td>\n",
       "      <td>/m/014sv8</td>\n",
       "      <td>1</td>\n",
       "    </tr>\n",
       "    <tr>\n",
       "      <th>000002b66c9c498e</th>\n",
       "      <td>verification</td>\n",
       "      <td>/m/016c68</td>\n",
       "      <td>1</td>\n",
       "    </tr>\n",
       "  </tbody>\n",
       "</table>\n",
       "</div>"
      ],
      "text/plain": [
       "                                    Source  LabelName  Confidence\n",
       "ImageID                                                          \n",
       "000002b66c9c498e  crowdsource-verification  /m/01kcnl           1\n",
       "000002b66c9c498e              verification   /m/012mj           1\n",
       "000002b66c9c498e              verification  /m/012yh1           1\n",
       "000002b66c9c498e              verification  /m/014sv8           1\n",
       "000002b66c9c498e              verification  /m/016c68           1"
      ]
     },
     "metadata": {},
     "output_type": "display_data"
    }
   ],
   "source": [
    "# train_human_labels_df = pd.read_csv(train_human_labels_csv, names=['id', 'labels'], index_col=['id'])\n",
    "train_human_labels_df = pd.read_csv(train_human_labels_csv, index_col=['ImageID'], nrows=run_rows)\n",
    "display(train_human_labels_df.shape, train_human_labels_df.head())"
   ]
  },
  {
   "cell_type": "code",
   "execution_count": 6,
   "metadata": {},
   "outputs": [
    {
     "name": "stdout",
     "output_type": "stream",
     "text": [
      "3 most popular labels are: /m/01g317 /m/01bqvp /m/09j2d\n"
     ]
    }
   ],
   "source": [
    "# calculate top_n most popular labels\n",
    "predicted = ' '.join(\n",
    "    train_human_labels_df['LabelName']\n",
    "#     .str\n",
    "#     .split()\n",
    "    .apply(pd.Series)\n",
    "    .stack()\n",
    "    .value_counts()\n",
    "    .head(top_n)\n",
    "    .index\n",
    "    .tolist()\n",
    ")\n",
    "\n",
    "print(f'{top_n} most popular labels are: {predicted}')"
   ]
  },
  {
   "cell_type": "code",
   "execution_count": 7,
   "metadata": {},
   "outputs": [],
   "source": [
    "submission = pd.read_csv(stage_1_sample_submission_csv)"
   ]
  },
  {
   "cell_type": "code",
   "execution_count": 8,
   "metadata": {},
   "outputs": [
    {
     "data": {
      "text/plain": [
       "(32580, 2)"
      ]
     },
     "metadata": {},
     "output_type": "display_data"
    },
    {
     "data": {
      "text/html": [
       "<div>\n",
       "<style scoped>\n",
       "    .dataframe tbody tr th:only-of-type {\n",
       "        vertical-align: middle;\n",
       "    }\n",
       "\n",
       "    .dataframe tbody tr th {\n",
       "        vertical-align: top;\n",
       "    }\n",
       "\n",
       "    .dataframe thead th {\n",
       "        text-align: right;\n",
       "    }\n",
       "</style>\n",
       "<table border=\"1\" class=\"dataframe\">\n",
       "  <thead>\n",
       "    <tr style=\"text-align: right;\">\n",
       "      <th></th>\n",
       "      <th>image_id</th>\n",
       "      <th>labels</th>\n",
       "    </tr>\n",
       "  </thead>\n",
       "  <tbody>\n",
       "    <tr>\n",
       "      <th>0</th>\n",
       "      <td>2b2b327132556c767a736b3d</td>\n",
       "      <td>/m/01g317 /m/01bqvp /m/09j2d</td>\n",
       "    </tr>\n",
       "    <tr>\n",
       "      <th>1</th>\n",
       "      <td>2b2b394755692f303963553d</td>\n",
       "      <td>/m/01g317 /m/01bqvp /m/09j2d</td>\n",
       "    </tr>\n",
       "    <tr>\n",
       "      <th>2</th>\n",
       "      <td>2b2b42584e6d445937444d3d</td>\n",
       "      <td>/m/01g317 /m/01bqvp /m/09j2d</td>\n",
       "    </tr>\n",
       "    <tr>\n",
       "      <th>3</th>\n",
       "      <td>2b2b44744e57674270616f3d</td>\n",
       "      <td>/m/01g317 /m/01bqvp /m/09j2d</td>\n",
       "    </tr>\n",
       "    <tr>\n",
       "      <th>4</th>\n",
       "      <td>2b2b4b425a592b683059493d</td>\n",
       "      <td>/m/01g317 /m/01bqvp /m/09j2d</td>\n",
       "    </tr>\n",
       "  </tbody>\n",
       "</table>\n",
       "</div>"
      ],
      "text/plain": [
       "                   image_id                        labels\n",
       "0  2b2b327132556c767a736b3d  /m/01g317 /m/01bqvp /m/09j2d\n",
       "1  2b2b394755692f303963553d  /m/01g317 /m/01bqvp /m/09j2d\n",
       "2  2b2b42584e6d445937444d3d  /m/01g317 /m/01bqvp /m/09j2d\n",
       "3  2b2b44744e57674270616f3d  /m/01g317 /m/01bqvp /m/09j2d\n",
       "4  2b2b4b425a592b683059493d  /m/01g317 /m/01bqvp /m/09j2d"
      ]
     },
     "metadata": {},
     "output_type": "display_data"
    }
   ],
   "source": [
    "# use most popular labels as a prediction unless the correct labels are provided\n",
    "submission['labels'] = predicted\n",
    "\n",
    "display(submission.shape, submission.head())"
   ]
  },
  {
   "cell_type": "code",
   "execution_count": 9,
   "metadata": {},
   "outputs": [
    {
     "name": "stdout",
     "output_type": "stream",
     "text": [
      "D:\\kaggle-Inclusive-Images\\output\\3. naive-submission_20181016-203939.csv\n"
     ]
    }
   ],
   "source": [
    "submission_csv_file = os.path.join(output_folder, '%s.csv' % run_name)\n",
    "print(submission_csv_file)\n",
    "submission.to_csv(submission_csv_file, index=False)"
   ]
  },
  {
   "cell_type": "code",
   "execution_count": null,
   "metadata": {},
   "outputs": [],
   "source": []
  },
  {
   "cell_type": "code",
   "execution_count": null,
   "metadata": {},
   "outputs": [],
   "source": []
  },
  {
   "cell_type": "code",
   "execution_count": 10,
   "metadata": {},
   "outputs": [
    {
     "name": "stdout",
     "output_type": "stream",
     "text": [
      "3. naive-submission_20181016-203939\n",
      "Time elapsed: 160.57 s\n"
     ]
    }
   ],
   "source": [
    "print(run_name)\n",
    "print('Time elapsed: %.2f s' % (time.time() - time0))"
   ]
  },
  {
   "cell_type": "code",
   "execution_count": null,
   "metadata": {},
   "outputs": [],
   "source": []
  }
 ],
 "metadata": {
  "kernelspec": {
   "display_name": "Python [default]",
   "language": "python",
   "name": "python3"
  },
  "language_info": {
   "codemirror_mode": {
    "name": "ipython",
    "version": 3
   },
   "file_extension": ".py",
   "mimetype": "text/x-python",
   "name": "python",
   "nbconvert_exporter": "python",
   "pygments_lexer": "ipython3",
   "version": "3.6.5"
  }
 },
 "nbformat": 4,
 "nbformat_minor": 2
}
